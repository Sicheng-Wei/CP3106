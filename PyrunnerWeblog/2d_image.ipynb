{
 "cells": [
  {
   "cell_type": "code",
   "execution_count": 1,
   "metadata": {},
   "outputs": [],
   "source": [
    "import numpy as np\n",
    "import matplotlib as mpl\n",
    "import matplotlib.pyplot as plt\n",
    "import scipy.optimize as spopt\n",
    "import scipy.fftpack as spfft\n",
    "import cvxpy as cvx\n",
    "import cv2"
   ]
  },
  {
   "cell_type": "code",
   "execution_count": 2,
   "metadata": {},
   "outputs": [],
   "source": [
    "def dct2(x):\n",
    "    return spfft.dct(spfft.dct(x.T, norm='ortho', axis=0).T, norm='ortho', axis=0)\n",
    "\n",
    "def idct2(x):\n",
    "    return spfft.idct(spfft.idct(x.T, norm='ortho', axis=0).T, norm='ortho', axis=0)"
   ]
  },
  {
   "cell_type": "code",
   "execution_count": 3,
   "metadata": {},
   "outputs": [
    {
     "name": "stdout",
     "output_type": "stream",
     "text": [
      "The shape of x: (52, 40)\n"
     ]
    }
   ],
   "source": [
    "# read original image and downsize for speed\n",
    "x = cv2.imread('imgs/monalisa_pix.jpg', 0)\n",
    "ny,nx = x.shape\n",
    "print(f\"The shape of x: ({ny}, {nx})\")"
   ]
  },
  {
   "cell_type": "code",
   "execution_count": 4,
   "metadata": {},
   "outputs": [
    {
     "data": {
      "image/png": "[encoded data removed]",
      "text/plain": [
       "<Figure size 432x288 with 1 Axes>"
      ]
     },
     "metadata": {
      "needs_background": "light"
     },
     "output_type": "display_data"
    }
   ],
   "source": [
    "# show original image\n",
    "plt.imshow(x, cmap='gray')\n",
    "plt.show()"
   ]
  },
  {
   "cell_type": "code",
   "execution_count": 5,
   "metadata": {},
   "outputs": [
    {
     "name": "stdout",
     "output_type": "stream",
     "text": [
      "The size of y: (1040,)\n"
     ]
    }
   ],
   "source": [
    "# extract small sample of signal\n",
    "sample_rate = 0.5\n",
    "k = round(nx * ny * sample_rate)\n",
    "flt = np.random.choice(nx * ny, k, replace=False)        # filter for y\n",
    "y = x.T.flat[flt]\n",
    "print(f\"The size of y: {y.shape}\")"
   ]
  },
  {
   "cell_type": "code",
   "execution_count": 6,
   "metadata": {},
   "outputs": [
    {
     "name": "stdout",
     "output_type": "stream",
     "text": [
      "(1040, 2080)\n"
     ]
    }
   ],
   "source": [
    "# generate Theta = C @ psai from filter\n",
    "Theta = np.kron(\n",
    "    spfft.idct(np.identity(nx), norm='ortho', axis=0),\n",
    "    spfft.idct(np.identity(ny), norm='ortho', axis=0)\n",
    "    )[flt, :]\n",
    "print(Theta.shape)"
   ]
  },
  {
   "cell_type": "code",
   "execution_count": 7,
   "metadata": {},
   "outputs": [
    {
     "name": "stdout",
     "output_type": "stream",
     "text": [
      "===============================================================================\n",
      "                                     CVXPY                                     \n",
      "                                     v1.3.0                                    \n",
      "===============================================================================\n",
      "(CVXPY) Feb 09 03:22:20 PM: Your problem has 2080 variables, 1 constraints, and 0 parameters.\n",
      "(CVXPY) Feb 09 03:22:20 PM: It is compliant with the following grammars: DCP, DQCP\n",
      "(CVXPY) Feb 09 03:22:20 PM: (If you need to solve this problem multiple times, but with different data, consider using parameters.)\n",
      "(CVXPY) Feb 09 03:22:20 PM: CVXPY will first compile your problem; then, it will invoke a numerical solver to obtain a solution.\n",
      "-------------------------------------------------------------------------------\n",
      "                                  Compilation                                  \n",
      "-------------------------------------------------------------------------------\n",
      "(CVXPY) Feb 09 03:22:20 PM: Compiling problem (target solver=ECOS).\n",
      "(CVXPY) Feb 09 03:22:20 PM: Reduction chain: Dcp2Cone -> CvxAttr2Constr -> ConeMatrixStuffing -> ECOS\n",
      "(CVXPY) Feb 09 03:22:20 PM: Applying reduction Dcp2Cone\n",
      "(CVXPY) Feb 09 03:22:20 PM: Applying reduction CvxAttr2Constr\n",
      "(CVXPY) Feb 09 03:22:20 PM: Applying reduction ConeMatrixStuffing\n",
      "(CVXPY) Feb 09 03:22:20 PM: Applying reduction ECOS\n",
      "(CVXPY) Feb 09 03:22:21 PM: Finished problem compilation (took 1.190e+00 seconds).\n",
      "-------------------------------------------------------------------------------\n",
      "                                Numerical solver                               \n",
      "-------------------------------------------------------------------------------\n",
      "(CVXPY) Feb 09 03:22:21 PM: Invoking solver ECOS  to obtain a solution.\n",
      "-------------------------------------------------------------------------------\n",
      "                                    Summary                                    \n",
      "-------------------------------------------------------------------------------\n",
      "(CVXPY) Feb 09 03:23:03 PM: Problem status: optimal\n",
      "(CVXPY) Feb 09 03:23:03 PM: Optimal value: 3.572e+04\n",
      "(CVXPY) Feb 09 03:23:03 PM: Compilation took 1.190e+00 seconds\n",
      "(CVXPY) Feb 09 03:23:03 PM: Solver (including time spent in interface) took 4.241e+01 seconds\n"
     ]
    }
   ],
   "source": [
    "# do L1 optimization\n",
    "vx = cvx.Variable(nx * ny)\n",
    "objective = cvx.Minimize(cvx.norm(vx, 1))\n",
    "constraints = [Theta @ vx == y]\n",
    "prob = cvx.Problem(objective, constraints)\n",
    "result = prob.solve(verbose=True)\n",
    "Xat2 = np.array(vx.value).squeeze()"
   ]
  },
  {
   "cell_type": "code",
   "execution_count": 8,
   "metadata": {},
   "outputs": [
    {
     "name": "stdout",
     "output_type": "stream",
     "text": [
      "(52, 40)\n"
     ]
    },
    {
     "data": {
      "image/png": "[encoded data removed]",
      "text/plain": [
       "<Figure size 432x288 with 1 Axes>"
      ]
     },
     "metadata": {
      "needs_background": "light"
     },
     "output_type": "display_data"
    }
   ],
   "source": [
    "# reconstruct signal\n",
    "Xat = Xat2.reshape(nx, ny).T\n",
    "Xa = idct2(Xat)\n",
    "print(Xa.shape)\n",
    "\n",
    "plt.imshow(Xa, cmap='gray')\n",
    "plt.show()"
   ]
  },
  {
   "cell_type": "code",
   "execution_count": 9,
   "metadata": {},
   "outputs": [
    {
     "name": "stdout",
     "output_type": "stream",
     "text": [
      "MSE:  719.2639423076923\n",
      "RMSE:  26.81909659753088\n",
      "PSNR:  19.561920718020925\n",
      "SSIM:  (0.8503580685492214, 0.8515915140778457)\n",
      "UQI:  0.9387497073094054\n"
     ]
    }
   ],
   "source": [
    "# compare the similarity between two images\n",
    "\n",
    "import sewar\n",
    "\n",
    "def metrics(origin, recover):\n",
    "    # smaller means more similar\n",
    "    print(\"MSE: \",      sewar.mse(origin,recover))\n",
    "    print(\"RMSE: \",     sewar.rmse(origin, recover))\n",
    "    # bigger means more similar\n",
    "    print(\"PSNR: \",     sewar.psnr(origin, recover))\n",
    "    print(\"SSIM: \",     sewar.ssim(origin, recover))\n",
    "    print(\"UQI: \",      sewar.uqi(origin, recover))\n",
    "\n",
    "metrics(x, Xa.astype(np.uint8))"
   ]
  }
 ],
 "metadata": {
  "kernelspec": {
   "display_name": "base",
   "language": "python",
   "name": "python3"
  },
  "language_info": {
   "codemirror_mode": {
    "name": "ipython",
    "version": 3
   },
   "file_extension": ".py",
   "mimetype": "text/x-python",
   "name": "python",
   "nbconvert_exporter": "python",
   "pygments_lexer": "ipython3",
   "version": "3.9.12"
  },
  "orig_nbformat": 4,
  "vscode": {
   "interpreter": {
    "hash": "7762632c39b5369c026391dcd62b289acb32b6cda83858d6741c351fa2978aea"
   }
  }
 },
 "nbformat": 4,
 "nbformat_minor": 2
}
